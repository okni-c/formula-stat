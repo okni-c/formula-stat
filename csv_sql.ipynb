{
 "cells": [
  {
   "cell_type": "code",
   "execution_count": 53,
   "metadata": {},
   "outputs": [],
   "source": [
    "import pandas as pd\n",
    "from pathlib import Path"
   ]
  },
  {
   "cell_type": "code",
   "execution_count": 76,
   "metadata": {},
   "outputs": [],
   "source": [
    "csvs = [\"circuits\",\"constructorResults\",\"constructorStandings\",\"constructors\",\"driverStandings\",\"drivers\",\"lapTimes\",\"qualifying\",\"races\",\"results\",\"sprintResults\",\"status\",]\n",
    "\n",
    "for _csv in csvs:\n",
    "    df = pd.read_csv(Path(f\"src-tauri/resources/{_csv}.csv\"))\n",
    "    df = df.replace(\"\\\\N\",\"NULL\")\n",
    "    for i, row in df.iterrows():\n",
    "        sql_statement = f'INSERT INTO \"{_csv}\" VALUES('\n",
    "        for i, cell in row.items():\n",
    "            if cell == \"NULL\":\n",
    "                 sql_statement += 'NULL,'\n",
    "            elif type(cell) == str:\n",
    "                sql_statement += f'\"{cell}\",'\n",
    "            else:\n",
    "                sql_statement += f\"{cell},\"\n",
    "        sql_statement = sql_statement[:len(sql_statement)-1]\n",
    "        sql_statement += \");\\n\"\n",
    "        with open(Path(\"test.sql\"), 'a') as file:\n",
    "            file.write(sql_statement)\n",
    "    with open(Path(\"test.sql\"), 'a') as file:\n",
    "            file.write(\"\\n\")\n",
    "        "
   ]
  }
 ],
 "metadata": {
  "kernelspec": {
   "display_name": "ml",
   "language": "python",
   "name": "python3"
  },
  "language_info": {
   "codemirror_mode": {
    "name": "ipython",
    "version": 3
   },
   "file_extension": ".py",
   "mimetype": "text/x-python",
   "name": "python",
   "nbconvert_exporter": "python",
   "pygments_lexer": "ipython3",
   "version": "3.9.16"
  },
  "orig_nbformat": 4
 },
 "nbformat": 4,
 "nbformat_minor": 2
}
